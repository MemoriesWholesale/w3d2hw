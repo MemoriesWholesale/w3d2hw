{
 "cells": [
  {
   "cell_type": "markdown",
   "metadata": {},
   "source": [
    "#### Exercise 1 - Class Inheritance"
   ]
  },
  {
   "cell_type": "markdown",
   "metadata": {},
   "source": [
    "Create an Employee class that sets an employee's first name, last name, job title, salary, and email. The Employee class should have a class attribute for the raise amount set to 5% (1.05). Create a method that will apply the raise to an employee's salary."
   ]
  },
  {
   "cell_type": "code",
   "execution_count": 14,
   "metadata": {},
   "outputs": [],
   "source": [
    "class Employee:\n",
    "    raise_amount = 1.05\n",
    "    def __init__(self,first_name,last_name,job_title,salary,email):\n",
    "        self.first = first_name\n",
    "        self.last = last_name\n",
    "        self.job = job_title\n",
    "        self.salary = salary\n",
    "        self.email = email\n",
    "    def give_raise(self):\n",
    "        self.salary *= self.raise_amount"
   ]
  },
  {
   "cell_type": "markdown",
   "metadata": {},
   "source": [
    "Create two more classes that inherit from the Employee class. One for Sales and one for Development. Both of these classes will have the same attributes as the Employee.<br>\n",
    "- For the Sales employees, add a phone number attribute on instantiation using the super method. \n",
    "- Create a method on the Sales class that will Send a Follow Up Email. It should take in a customer name and \"send\" aka print a formatted email \"Dear *customer*, Thank you for your interest in our product. Please let me know if you have any questions. My email is *email* or my phone number is *phone number*. Thanks, *full name*\"\n",
    "- Create a method on the Development class called code that will print out \"*full name* is writing code\"."
   ]
  },
  {
   "cell_type": "code",
   "execution_count": 16,
   "metadata": {},
   "outputs": [],
   "source": [
    "class Sales(Employee):\n",
    "    def __init__(self,first_name,last_name,salary,email,phone_number):\n",
    "        super().__init__(first_name,last_name,'salesperson',salary,email)\n",
    "        self.phone = phone_number\n",
    "    def followup(self,customer):\n",
    "        print(f'Dear {customer}, Thank you for your interest in our product. Please let me know if you have any questions. My email is {self.email} and my phone number is {self.phone}. Thanks, {self.first} {self.last}')\n",
    "\n",
    "class Development(Employee):\n",
    "    def __init__(self,first_name,last_name,salary,email):\n",
    "        super().__init__(first_name,last_name,'developer',salary,email)\n",
    "    def code(self):\n",
    "        print(f'{self.first} {self.last} is writing code')"
   ]
  },
  {
   "cell_type": "markdown",
   "metadata": {},
   "source": [
    "- Create an instance of a Sales Employee with a salary of $50,000.\n",
    "- Send follow up emails to \"Mike O'Neil\" and \"Hannah Stern\"\n",
    "- Give the employee a raise and print the salary"
   ]
  },
  {
   "cell_type": "code",
   "execution_count": 19,
   "metadata": {},
   "outputs": [
    {
     "name": "stdout",
     "output_type": "stream",
     "text": [
      "Dear Mike O'Neill, Thank you for your interest in our product. Please let me know if you have any questions. My email is troydfitz@templars.biz and my phone number is (777)420-6969. Thanks, Murgatroyd Fitzsimmons\n",
      "Dear Hannah Stern, Thank you for your interest in our product. Please let me know if you have any questions. My email is troydfitz@templars.biz and my phone number is (777)420-6969. Thanks, Murgatroyd Fitzsimmons\n",
      "50000\n",
      "52500.0\n"
     ]
    }
   ],
   "source": [
    "Murgatroyd = Sales('Murgatroyd','Fitzsimmons',50000,'troydfitz@templars.biz','(777)420-6969')\n",
    "\n",
    "Murgatroyd.followup(\"Mike O'Neill\")\n",
    "\n",
    "Murgatroyd.followup('Hannah Stern')\n",
    "\n",
    "print(Murgatroyd.salary)\n",
    "\n",
    "Murgatroyd.give_raise()\n",
    "\n",
    "print(Murgatroyd.salary)"
   ]
  },
  {
   "cell_type": "markdown",
   "metadata": {},
   "source": [
    "- Create an instance of a Development Employee with a salary of $100,000\n",
    "- Write some code with this employee\n",
    "- Give the employee a raise and print the salary"
   ]
  },
  {
   "cell_type": "code",
   "execution_count": 25,
   "metadata": {},
   "outputs": [
    {
     "name": "stdout",
     "output_type": "stream",
     "text": [
      "Aristotle Papadopolous is writing code\n",
      "100000\n",
      "105000.0\n"
     ]
    }
   ],
   "source": [
    "Aristotle = Development('Aristotle','Papadopolous',100000,'aristotlopolous@templars.biz')\n",
    "\n",
    "Aristotle.code()\n",
    "\n",
    "print(Aristotle.salary)\n",
    "\n",
    "Aristotle.give_raise()\n",
    "\n",
    "print(Aristotle.salary)"
   ]
  },
  {
   "cell_type": "markdown",
   "metadata": {},
   "source": [
    "#### Exercise 2 - Importing Modules"
   ]
  },
  {
   "cell_type": "markdown",
   "metadata": {},
   "source": [
    "In VS Code, create a module titled `geometry` and add two functions in there. One that will calculate the area of a circle given a radius. The second will find the hypotenuse of a right angle given the two sides. Import the module or the functions from the module and use it to find the answers to the below questions"
   ]
  },
  {
   "cell_type": "markdown",
   "metadata": {},
   "source": [
    "What is the area of a circle with a radius of 7cm?"
   ]
  },
  {
   "cell_type": "code",
   "execution_count": 33,
   "metadata": {},
   "outputs": [
    {
     "name": "stdout",
     "output_type": "stream",
     "text": [
      "153.93804002589985 square centimeters\n"
     ]
    }
   ],
   "source": [
    "import geometry\n",
    "\n",
    "print (f'{geometry.circle_area(7)} square centimeters')"
   ]
  },
  {
   "cell_type": "markdown",
   "metadata": {},
   "source": [
    "What is the hypotenuse of a right angle with sides of 3in and 4in?"
   ]
  },
  {
   "cell_type": "code",
   "execution_count": 32,
   "metadata": {},
   "outputs": [
    {
     "name": "stdout",
     "output_type": "stream",
     "text": [
      "5.0 inches\n"
     ]
    }
   ],
   "source": [
    "print (f'{geometry.hypoteneuse(3,4)} inches')"
   ]
  }
 ],
 "metadata": {
  "kernelspec": {
   "display_name": "Python 3",
   "language": "python",
   "name": "python3"
  },
  "language_info": {
   "codemirror_mode": {
    "name": "ipython",
    "version": 3
   },
   "file_extension": ".py",
   "mimetype": "text/x-python",
   "name": "python",
   "nbconvert_exporter": "python",
   "pygments_lexer": "ipython3",
   "version": "3.10.10"
  }
 },
 "nbformat": 4,
 "nbformat_minor": 4
}
